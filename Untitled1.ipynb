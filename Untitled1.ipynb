{
  "cells": [
    {
      "cell_type": "markdown",
      "metadata": {
        "id": "view-in-github",
        "colab_type": "text"
      },
      "source": [
        "<a href=\"https://colab.research.google.com/github/bonillaharry/progr-III-2023/blob/main/Untitled1.ipynb\" target=\"_parent\"><img src=\"https://colab.research.google.com/assets/colab-badge.svg\" alt=\"Open In Colab\"/></a>"
      ]
    },
    {
      "cell_type": "markdown",
      "metadata": {
        "id": "QWv1zMYJCeG5"
      },
      "source": [
        "FUNCIONES DE USUARIO\n",
        ".Convertir grados celsius a farenheit."
      ]
    },
    {
      "cell_type": "code",
      "execution_count": null,
      "metadata": {
        "id": "OzOZuhKdCoAE"
      },
      "outputs": [],
      "source": [
        "def convertir(f):\n",
        "  return 32 + c*9/5"
      ]
    },
    {
      "cell_type": "code",
      "execution_count": null,
      "metadata": {
        "id": "-URP-JeQC1iF"
      },
      "outputs": [],
      "source": [
        "c = float(input(\"celsius:\"))\n",
        "print(\"f:\",convertir_cf(c))"
      ]
    },
    {
      "cell_type": "code",
      "execution_count": null,
      "metadata": {
        "id": "7A9sjQEqSNvi"
      },
      "outputs": [],
      "source": []
    },
    {
      "cell_type": "markdown",
      "metadata": {
        "id": "WxZruv_MGyBf"
      },
      "source": [
        "**EJERCICIOS**\n",
        "*Convertir de farenheit a Celsius\n",
        "*convertir de [Celsius,Farenheit] a Kelvin"
      ]
    },
    {
      "cell_type": "code",
      "execution_count": null,
      "metadata": {
        "id": "dEVOwWEaHL4q"
      },
      "outputs": [],
      "source": [
        "def convertir(r):\n",
        "  return (r-32)*5/9\n",
        "  =function que se encarga de convertir"
      ]
    },
    {
      "cell_type": "code",
      "execution_count": null,
      "metadata": {
        "id": "vPxDIfKBJio9"
      },
      "outputs": [],
      "source": [
        "from IPython.core.displayhook import Float\n",
        "k = Float(input)"
      ]
    },
    {
      "cell_type": "markdown",
      "metadata": {
        "id": "Y3D5G2ecKNEl"
      },
      "source": [
        "calcular el sueldo mensual de un empleado"
      ]
    },
    {
      "cell_type": "code",
      "execution_count": null,
      "metadata": {
        "id": "dwUysqyYFJxs"
      },
      "outputs": [],
      "source": [
        "tabla_isr = [\n",
        "    [0.01, 472.0, 0, 0],\n",
        "    [472.01, 895.24,0.1, 17.67],\n",
        "    [895.25, 2038.1, 0.2, 60.00],\n",
        "    [2038.11,9999999, 0.3, 288.57]\n",
        "]"
      ]
    },
    {
      "cell_type": "code",
      "execution_count": null,
      "metadata": {
        "id": "0Ma1sA1xXWDp"
      },
      "outputs": [],
      "source": [
        "def calcularIsr(sueldo, sueldoNeto):\n",
        "  for tramo in tabla_isr:\n",
        "  if sueldo>tramo[0] and sueldo<=tramo[1]:\n",
        "    impsr = (sueldoNeto-tramo[0])*tramo[2] + tramo[3]\n",
        "    return impsr"
      ]
    },
    {
      "cell_type": "code",
      "execution_count": null,
      "metadata": {
        "id": "aOV-kraxaeHk"
      },
      "outputs": [],
      "source": [
        "valorxhr = 4\n",
        "#isss = 3%\n",
        "#afp = 6.25%\n",
        "numHrs = float(input(\"horas trabajadas\") )\n",
        "s = sueldo(numHrs, valorxhr)\n",
        "isr = calcularIsr(s, s*0.9075)\n",
        "print(\"sueldo\", s, \"ISR\", isr, s*0.9075-isr)"
      ]
    },
    {
      "cell_type": "markdown",
      "metadata": {
        "id": "plXRayDKGzCo"
      },
      "source": [
        "LISTAS"
      ]
    },
    {
      "cell_type": "code",
      "execution_count": null,
      "metadata": {
        "id": "yjAv_bu3HBCw"
      },
      "outputs": [],
      "source": [
        "data = [2,5,6,8,9]"
      ]
    },
    {
      "cell_type": "code",
      "execution_count": null,
      "metadata": {
        "colab": {
          "base_uri": "https://localhost:8080/"
        },
        "id": "EB4ICuzFHVbk",
        "outputId": "221cb87c-84e6-42a6-8f8a-aa1334a6563a"
      },
      "outputs": [
        {
          "name": "stdout",
          "output_type": "stream",
          "text": [
            "[8, 125, 216, 512, 729]\n"
          ]
        }
      ],
      "source": [
        "resp = map(lambda n:n**3, data)\n",
        "print(list(resp))"
      ]
    },
    {
      "cell_type": "code",
      "execution_count": null,
      "metadata": {
        "colab": {
          "base_uri": "https://localhost:8080/"
        },
        "id": "8uIHonKlIWEE",
        "outputId": "f2572c97-486b-4d1b-aba6-417401987fd2"
      },
      "outputs": [
        {
          "name": "stdout",
          "output_type": "stream",
          "text": [
            "[35.6, 41.0, 42.8, 46.4, 48.2]\n"
          ]
        }
      ],
      "source": [
        "f = map(lambda c:c*9/5 + 32, data)\n",
        "print(list(f) )\n"
      ]
    },
    {
      "cell_type": "code",
      "execution_count": null,
      "metadata": {
        "id": "SfEK5OJiK-NX"
      },
      "outputs": [],
      "source": [
        "pares = filter(lambda  n:n%2==0, data)\n",
        "print(list  (pares) )"
      ]
    },
    {
      "cell_type": "code",
      "execution_count": null,
      "metadata": {
        "id": "a6xqwGj1Nxwf"
      },
      "outputs": [],
      "source": [
        "impares = filter(lambda n:n%2!=0, data)\n",
        "print( list(impares) )"
      ]
    },
    {
      "cell_type": "markdown",
      "metadata": {
        "id": "DHfaIbnHOknF"
      },
      "source": [
        "ciclos  \n",
        ".FOR"
      ]
    },
    {
      "cell_type": "code",
      "execution_count": null,
      "metadata": {
        "id": "Hch6lw1EOpin"
      },
      "outputs": [],
      "source": [
        "for item in  data:\n",
        "  print(item)"
      ]
    },
    {
      "cell_type": "markdown",
      "metadata": {
        "id": "RDawaEclPHGk"
      },
      "source": [
        ". WHILE"
      ]
    },
    {
      "cell_type": "code",
      "execution_count": null,
      "metadata": {
        "id": "udAi2zj8PLnI"
      },
      "outputs": [],
      "source": [
        "i=0\n",
        "n= len(data)\n",
        "while i<n:\n",
        "  print(data [i] )\n",
        "  i+=1"
      ]
    },
    {
      "cell_type": "markdown",
      "metadata": {
        "id": "TpxGj5f-P0Z8"
      },
      "source": [
        "TABLA DE MULTIPLICAR"
      ]
    },
    {
      "cell_type": "code",
      "execution_count": null,
      "metadata": {
        "colab": {
          "base_uri": "https://localhost:8080/"
        },
        "id": "vFCv5g0vP3z9",
        "outputId": "ba0a228c-045c-4d6c-999f-b8d90bb2e082"
      },
      "outputs": [
        {
          "name": "stdout",
          "output_type": "stream",
          "text": [
            "N    tabla:12\n",
            "12 x 1 = 12\n",
            "12 x 2 = 24\n",
            "12 x 3 = 36\n",
            "12 x 4 = 48\n",
            "12 x 5 = 60\n",
            "12 x 6 = 72\n",
            "12 x 7 = 84\n",
            "12 x 8 = 96\n",
            "12 x 9 = 108\n",
            "12 x 10 = 120\n",
            "12 x 11 = 132\n"
          ]
        }
      ],
      "source": [
        "n = int(input(\"N    tabla:\" ))\n",
        "\n",
        "for i in range(1,12):\n",
        "  print(n, \"x\", i, \"=\", n*i )"
      ]
    },
    {
      "cell_type": "code",
      "execution_count": null,
      "metadata": {
        "colab": {
          "base_uri": "https://localhost:8080/"
        },
        "id": "cr7GFTE9T10m",
        "outputId": "48ad6f79-c8c9-42cd-9434-5e26e92d21e6"
      },
      "outputs": [
        {
          "name": "stdout",
          "output_type": "stream",
          "text": [
            "N       tabla:7\n",
            "7 x 1 = 7\n",
            "7 x 2 = 14\n",
            "7 x 3 = 21\n",
            "7 x 4 = 28\n",
            "7 x 5 = 35\n",
            "7 x 6 = 42\n",
            "7 x 7 = 49\n",
            "7 x 8 = 56\n",
            "7 x 9 = 63\n",
            "7 x 10 = 70\n",
            "7 x 11 = 77\n"
          ]
        }
      ],
      "source": [
        "n = int(input(\"N       tabla:\" ) )\n",
        "\n",
        "for i in range(1,12):\n",
        "  print(n, \"x\", i, \"=\", n*i )"
      ]
    },
    {
      "cell_type": "code",
      "execution_count": null,
      "metadata": {
        "colab": {
          "base_uri": "https://localhost:8080/"
        },
        "id": "g9J3gVK_Ukp0",
        "outputId": "62a9318a-41a9-48ef-dba6-18db3bd01c62"
      },
      "outputs": [
        {
          "name": "stdout",
          "output_type": "stream",
          "text": [
            "N       tabla:9\n",
            "9 x 1 = 9\n",
            "9 x 2 = 18\n",
            "9 x 3 = 27\n",
            "9 x 4 = 36\n",
            "9 x 5 = 45\n",
            "9 x 6 = 54\n",
            "9 x 7 = 63\n",
            "9 x 8 = 72\n",
            "9 x 9 = 81\n",
            "9 x 10 = 90\n",
            "9 x 11 = 99\n"
          ]
        }
      ],
      "source": [
        "n = int(input(\"N       tabla:\" ) )\n",
        "\n",
        "for i in range(1,12):\n",
        "  print(n, \"x\", i, \"=\", n*i )\n"
      ]
    },
    {
      "cell_type": "markdown",
      "metadata": {
        "id": "fstg5mKuJtFh"
      },
      "source": [
        "***Escribir un programa que pide nota de examen (0-10), e imprima por\n",
        "pantalla la calificacion en formato: \"suspenso\" si la nota es menor a s,\n",
        "\"aprobado\" si es entre 5 y 7 inclusive, y 7  sin incluir, \"Notable\" si estra entre 7 inclusive y 9 sin incluir, \"sobresaliente\" si esta entre 9 inclusive y 10 sin incluir, \"honorable\" si es 10"
      ]
    },
    {
      "cell_type": "code",
      "execution_count": null,
      "metadata": {
        "colab": {
          "base_uri": "https://localhost:8080/"
        },
        "id": "-wii64eFQ44I",
        "outputId": "60c78652-c788-426b-e43c-7e6ddfa4ce33"
      },
      "outputs": [
        {
          "name": "stdout",
          "output_type": "stream",
          "text": [
            "Ingrese la nota del examen (0-10): 1\n",
            "La calificación es: valio pija XD\n"
          ]
        }
      ],
      "source": [
        "def calcular_calificacion(nota):\n",
        "    if nota < 5:\n",
        "        return \"valio pija XD\"\n",
        "    elif nota >= 5 and nota < 7:\n",
        "        return \"aprobado\"\n",
        "    elif nota >= 7 and nota < 9:\n",
        "        return \"Notable\"\n",
        "    elif nota >= 9 and nota < 10:\n",
        "        return \"sobresaliente\"\n",
        "    else:\n",
        "        return \"honorable\"\n",
        "\n",
        "try:\n",
        "    nota = float(input(\"Ingrese la nota del examen (0-10): \"))\n",
        "    if 0 <= nota <= 10:\n",
        "        calificacion = calcular_calificacion(nota)\n",
        "        print(f\"La calificación es: {calificacion}\")\n",
        "    else:\n",
        "        print(\"La nota ingresada está fuera del rango válido (0-10).\")\n",
        "except ValueError:\n",
        "    print(\"Por favor, ingrese una nota válida.\")\n"
      ]
    },
    {
      "cell_type": "code",
      "execution_count": null,
      "metadata": {
        "colab": {
          "base_uri": "https://localhost:8080/"
        },
        "id": "pieYdwyfRVHu",
        "outputId": "4a77cd27-c338-45cd-ec93-41757760de34"
      },
      "outputs": [
        {
          "name": "stdout",
          "output_type": "stream",
          "text": [
            "Nota: 7\n",
            "Notable\n"
          ]
        }
      ],
      "source": [
        "nota = float(input(\"Nota: \"))\n",
        "if(nota<0 or nota>10):\n",
        "  print(\"Nota invalida\")\n",
        "elif (nota<5):\n",
        "  print(\"suspenso\")\n",
        "elif(nota<7):\n",
        "  print(\"aprobado\")\n",
        "elif(nota<9):\n",
        "  print(\"Notable\")\n",
        "elif(nota<10):\n",
        "  print(\"SOBRESALIENTE\")\n",
        "else:\n",
        "    print(\"HONORABLE\")"
      ]
    },
    {
      "cell_type": "markdown",
      "metadata": {
        "id": "FjbsiU-uTgiK"
      },
      "source": [
        "Escribe un programa que muestre la secuencia fitbonacci"
      ]
    },
    {
      "cell_type": "code",
      "execution_count": null,
      "metadata": {
        "colab": {
          "base_uri": "https://localhost:8080/"
        },
        "id": "Qay_OOlVVNhs",
        "outputId": "a6eb5aa2-f220-4eb9-f064-1684286c90e8"
      },
      "outputs": [
        {
          "name": "stdout",
          "output_type": "stream",
          "text": [
            "Tabla de Fibonacci:\n",
            "Término 0: 0\n",
            "Término 1: 1\n",
            "Término 2: 1\n",
            "Término 3: 2\n",
            "Término 4: 3\n",
            "Término 5: 5\n",
            "Término 6: 8\n",
            "Término 7: 13\n",
            "Término 8: 21\n",
            "Término 9: 34\n"
          ]
        }
      ],
      "source": [
        "def fibonacci_table(n):\n",
        "    fib_table = [0, 1]  # Los primeros dos términos de Fibonacci\n",
        "    for i in range(2, n):\n",
        "        next_fib = fib_table[i - 1] + fib_table[i - 2]\n",
        "        fib_table.append(next_fib)\n",
        "\n",
        "    print(\"Tabla de Fibonacci:\")\n",
        "    for i, fib in enumerate(fib_table):\n",
        "        print(f\"Término {i}: {fib}\")\n",
        "\n",
        "# Cambia el valor de 'numero_de_terminos' según cuántos términos de Fibonacci quieras mostrar\n",
        "numero_de_terminos = 10\n",
        "fibonacci_table(numero_de_terminos)\n"
      ]
    },
    {
      "cell_type": "code",
      "execution_count": null,
      "metadata": {
        "colab": {
          "base_uri": "https://localhost:8080/"
        },
        "id": "j1CVyOAieEvc",
        "outputId": "a97ee5e4-360a-4ba3-faa7-636a9e32060a"
      },
      "outputs": [
        {
          "name": "stdout",
          "output_type": "stream",
          "text": [
            "Limit: 10\n",
            "0 + 1 = 1\n",
            "1 + 1 = 2\n",
            "1 + 2 = 3\n",
            "2 + 3 = 5\n",
            "3 + 5 = 8\n",
            "5 + 8 = 13\n"
          ]
        }
      ],
      "source": [
        "limit = int(input(\"Limit: \"))\n",
        "a = 0\n",
        "b = 1\n",
        "c = 0\n",
        "while c < limit:\n",
        "    c = a + b\n",
        "    print(a, \"+\", b, \"=\", c)\n",
        "    a = b\n",
        "    b = c\n"
      ]
    },
    {
      "cell_type": "code",
      "execution_count": null,
      "metadata": {
        "id": "IP1_kGv9sRoz"
      },
      "outputs": [],
      "source": [
        "nota= float(input(\"ingrse su nota entre 0 a 10:\"))\n",
        "if nota <0:\n",
        "print(\"Nota invalida\")\n",
        "elif nota < 5:\n",
        "print(\"usted ha suspendido\")\n",
        "elif nota >=5 and nota <7:\n",
        "  print(\"usted ha aprobado\")\n",
        "  elif nota >=7 and nota <9:\n",
        "    print(\"Usted es notable\")\n",
        "    elif nota >=9 and nota <10:\n",
        "    print(\"Usted es sobre saliente\")\n",
        "    elif nota==10:\n",
        "  print(\"Usted es honorable\")\n",
        "  else:\n",
        "  print(\"Nota invalida\")"
      ]
    },
    {
      "cell_type": "code",
      "execution_count": null,
      "metadata": {
        "id": "B399pOdZ2eH9"
      },
      "outputs": [],
      "source": [
        "limit = int(input(\"limit:\"))\n",
        "a = 0\n",
        "b = 1\n",
        "c = 0\n",
        "while c<limit:\n",
        "  c = a+b\n",
        "  print(a,\"+\",b,\"=\",c)"
      ]
    },
    {
      "cell_type": "code",
      "execution_count": null,
      "metadata": {
        "colab": {
          "base_uri": "https://localhost:8080/"
        },
        "id": "1DlTfhzqMxZo",
        "outputId": "fc3fce68-2de5-4948-de75-eae4f05c1890"
      },
      "outputs": [
        {
          "name": "stdout",
          "output_type": "stream",
          "text": [
            "100 USD equivale a 85.00 EUR\n"
          ]
        }
      ],
      "source": [
        "def convert_currency(amount, from_currency, to_currency):\n",
        "    exchange_rates = {\n",
        "        \"USD\": 1.0,\n",
        "        \"EUR\": 0.85,\n",
        "        \"GBP\": 0.72,\n",
        "        \"JPY\": 110.0,\n",
        "        # Agrega más tasas de cambio según tus necesidades\n",
        "    }\n",
        "\n",
        "    if from_currency in exchange_rates and to_currency in exchange_rates:\n",
        "        converted_amount = amount * (exchange_rates[to_currency] / exchange_rates[from_currency])\n",
        "        return converted_amount\n",
        "    else:\n",
        "        return None\n",
        "\n",
        "amount_to_convert = 100  # Cambia esto a la cantidad que quieras convertir\n",
        "from_currency = \"USD\"    # Cambia esto a la moneda de origen (puede ser \"USD\", \"EUR\", etc.)\n",
        "to_currency = \"EUR\"      # Cambia esto a la moneda objetivo (puede ser \"USD\", \"EUR\", etc.)\n",
        "\n",
        "converted_amount = convert_currency(amount_to_convert, from_currency, to_currency)\n",
        "\n",
        "if converted_amount is not None:\n",
        "    print(f\"{amount_to_convert} {from_currency} equivale a {converted_amount:.2f} {to_currency}\")\n",
        "else:\n",
        "    print(f\"No se pudo realizar la conversión.\")"
      ]
    },
    {
      "cell_type": "code",
      "execution_count": null,
      "metadata": {
        "colab": {
          "base_uri": "https://localhost:8080/"
        },
        "id": "pIhFz4ufNaAG",
        "outputId": "ea3cfd6c-8bca-4811-9575-304749e69924"
      },
      "outputs": [
        {
          "name": "stdout",
          "output_type": "stream",
          "text": [
            "100 cm equivale a 10000.00 m\n"
          ]
        }
      ],
      "source": [
        "def convert_length(length, from_unit, to_unit):\n",
        "    conversion_factors = {\n",
        "        \"mm\": 0.1,\n",
        "        \"cm\": 1,\n",
        "        \"m\": 100,\n",
        "        \"km\": 100000,\n",
        "        \"in\": 2.54,\n",
        "        \"ft\": 30.48,\n",
        "        \"yd\": 91.44,\n",
        "        \"mi\": 160934.4\n",
        "    }\n",
        "    return length * conversion_factors[to_unit] / conversion_factors[from_unit]\n",
        "\n",
        "length_to_convert = 100\n",
        "from_unit = \"cm\"\n",
        "to_unit = \"m\"\n",
        "\n",
        "converted_length = convert_length(length_to_convert, from_unit, to_unit)\n",
        "print(f\"{length_to_convert} {from_unit} equivale a {converted_length:.2f} {to_unit}\")"
      ]
    },
    {
      "cell_type": "code",
      "execution_count": null,
      "metadata": {
        "colab": {
          "base_uri": "https://localhost:8080/"
        },
        "id": "c-KTdcuEOPSW",
        "outputId": "e03f3013-c57c-4eb2-c741-ae047c8e284f"
      },
      "outputs": [
        {
          "name": "stdout",
          "output_type": "stream",
          "text": [
            "100 g equivale a 0.10 kg\n"
          ]
        }
      ],
      "source": [
        "def convert_mass(mass, from_unit, to_unit):\n",
        "    conversion_factors = {\n",
        "        \"mg\": 1000,\n",
        "        \"g\": 1,\n",
        "        \"kg\": 0.001,\n",
        "        \"lb\": 0.00220462,\n",
        "        \"oz\": 0.03527396\n",
        "    }\n",
        "    return mass * conversion_factors[to_unit] / conversion_factors[from_unit]\n",
        "\n",
        "mass_to_convert = 100\n",
        "from_unit = \"g\"\n",
        "to_unit = \"kg\"\n",
        "\n",
        "converted_mass = convert_mass(mass_to_convert, from_unit, to_unit)\n",
        "print(f\"{mass_to_convert} {from_unit} equivale a {converted_mass:.2f} {to_unit}\")"
      ]
    },
    {
      "cell_type": "code",
      "execution_count": null,
      "metadata": {
        "colab": {
          "base_uri": "https://localhost:8080/"
        },
        "id": "dFMpx6AfOfj8",
        "outputId": "ce369048-3feb-4bac-e149-96c1a688d733"
      },
      "outputs": [
        {
          "name": "stdout",
          "output_type": "stream",
          "text": [
            "1024 MB equivale a 1.02 GB\n"
          ]
        }
      ],
      "source": [
        "def convert_storage(size, from_unit, to_unit):\n",
        "    conversion_factors = {\n",
        "        \"B\": 1,\n",
        "        \"KB\": 1e-3,\n",
        "        \"MB\": 1e-6,\n",
        "        \"GB\": 1e-9,\n",
        "        \"TB\": 1e-12,\n",
        "        \"PB\": 1e-15\n",
        "    }\n",
        "    return size * conversion_factors[to_unit] / conversion_factors[from_unit]\n",
        "\n",
        "size_to_convert = 1024\n",
        "from_unit = \"MB\"\n",
        "to_unit = \"GB\"\n",
        "\n",
        "converted_size = convert_storage(size_to_convert, from_unit, to_unit)\n",
        "print(f\"{size_to_convert} {from_unit} equivale a {converted_size:.2f} {to_unit}\")"
      ]
    },
    {
      "cell_type": "code",
      "execution_count": null,
      "metadata": {
        "id": "cX5RuVwGO_Yk"
      },
      "outputs": [],
      "source": [
        "def convert_time(time, from_unit, to_unit):\n",
        "    conversion_factors = {\n",
        "        \"seconds\": 1,\n",
        "        \"minutes\": 1/60,\n",
        "        \"hours\": 1/3600,\n",
        "        \"days\": 1/86400\n",
        "    }\n",
        "    return time * conversion_factors[to_unit] / conversion_factors[from_unit]\n",
        "\n",
        "time_to_convert = 3600\n",
        "from_unit = \"seconds\"\n",
        "to_unit = \"hours\"\n",
        "\n",
        "converted_time = convert_time(time_to_convert, from_unit, to_unit)\n",
        "print(f\"{time_to_convert} {from_unit} equivale a {converted_time:.2f} {to_unit}\")"
      ]
    },
    {
      "cell_type": "code",
      "execution_count": null,
      "metadata": {
        "colab": {
          "base_uri": "https://localhost:8080/"
        },
        "id": "eYtjceloPJG7",
        "outputId": "c6330f22-3d7d-4dd8-d7b2-ae9349fdba9b"
      },
      "outputs": [
        {
          "name": "stdout",
          "output_type": "stream",
          "text": [
            "1000 ml equivale a 1.00 l\n"
          ]
        }
      ],
      "source": [
        "def convert_volume(volume, from_unit, to_unit):\n",
        "    conversion_factors = {\n",
        "        \"ml\": 1,\n",
        "        \"cl\": 0.1,\n",
        "        \"dl\": 0.01,\n",
        "        \"l\": 0.001,\n",
        "        \"cubic_m\": 1e-6,\n",
        "        \"cubic_ft\": 3.5315e-5,\n",
        "        \"cubic_yd\": 1.30795e-6\n",
        "    }\n",
        "    return volume * conversion_factors[to_unit] / conversion_factors[from_unit]\n",
        "\n",
        "volume_to_convert = 1000\n",
        "from_unit = \"ml\"\n",
        "to_unit = \"l\"\n",
        "\n",
        "converted_volume = convert_volume(volume_to_convert, from_unit, to_unit)\n",
        "print(f\"{volume_to_convert} {from_unit} equivale a {converted_volume:.2f} {to_unit}\")"
      ]
    },
    {
      "cell_type": "code",
      "execution_count": null,
      "metadata": {
        "id": "E1grR4jrP3XF"
      },
      "outputs": [],
      "source": [
        "def convert_area(area, from_unit, to_unit):\n",
        "    conversion_factors = {\n",
        "        \"sq_mm\": 1,\n",
        "        \"sq_cm\": 0.01,\n",
        "        \"sq_m\": 1e-6,\n",
        "        \"sq_km\": 1e-12,\n",
        "        \"sq_in\": 0.0015500031,\n",
        "        \"sq_ft\": 1.0763910417e-5,\n",
        "        \"sq_yd\": 1.1959900463e-6,\n",
        "        \"acres\": 2.4710538147e-10,\n",
        "        \"sq_mi\": 3.861e-13\n",
        "    }\n",
        "    return area * conversion_factors[to_unit] / conversion_factors[from_unit]\n",
        "\n",
        "area_to_convert = 10000\n",
        "from_unit = \"sq_m\"\n",
        "to_unit = \"sq_ft\"\n",
        "\n",
        "converted_area = convert_area(area_to_convert, from_unit, to_unit)\n",
        "print(f\"{area_to_convert} {from_unit} equivale a {converted_area:.2f} {to_unit}\")"
      ]
    },
    {
      "cell_type": "code",
      "execution_count": null,
      "metadata": {
        "colab": {
          "base_uri": "https://localhost:8080/"
        },
        "id": "UCGIZ3uWQP4q",
        "outputId": "544bfd49-3e35-4364-e711-c2bd9f9163e7"
      },
      "outputs": [
        {
          "name": "stdout",
          "output_type": "stream",
          "text": [
            "10 manzanas equivale a 24.71 acres\n"
          ]
        }
      ],
      "source": [
        "def convert_apples(apples, from_unit, to_unit):\n",
        "    conversion_factors = {\n",
        "        \"hectares\": 0.0252928528,  # Un valor aproximado para la conversión\n",
        "        \"acres\": 0.0625  # Un valor aproximado para la conversión\n",
        "    }\n",
        "    return apples * conversion_factors[to_unit] / conversion_factors[from_unit]\n",
        "\n",
        "apples_to_convert = 10\n",
        "from_unit = \"hectares\"\n",
        "to_unit = \"acres\"\n",
        "\n",
        "converted_apples = convert_apples(apples_to_convert, from_unit, to_unit)\n",
        "print(f\"{apples_to_convert} manzanas equivale a {converted_apples:.2f} {to_unit}\")"
      ]
    },
    {
      "cell_type": "code",
      "execution_count": null,
      "metadata": {
        "id": "yXlS01oAUMuQ"
      },
      "outputs": [],
      "source": [
        "def convert_currency(amount, from_currency, to_currency):\n",
        "    exchange_rates = {\n",
        "        'USD': 1.0,\n",
        "        'EUR': 0.85,\n",
        "        'GBP': 0.73,\n",
        "        'JPY': 110.29\n",
        "        # Agrega más tasas de cambio según sea necesario\n",
        "    }\n",
        "\n",
        "    if from_currency in exchange_rates and to_currency in exchange_rates:\n",
        "        converted_amount = amount * exchange_rates[to_currency] / exchange_rates[from_currency]\n",
        "        return converted_amount\n",
        "    else:\n",
        "        return None\n",
        "\n",
        "# Solicitar al usuario ingresar los detalles de la conversión\n",
        "amount = float(input(\"Ingresa el monto a convertir: \"))\n",
        "from_currency = input(\"Ingresa la moneda de origen (USD, EUR, GBP, JPY, etc.): \").upper()\n",
        "to_currency = input(\"Ingresa la moneda de destino (USD, EUR, GBP, JPY, etc.): \").upper()\n",
        "\n",
        "# Realizar la conversión\n",
        "converted_amount = convert_currency(amount, from_currency, to_currency)\n",
        "\n",
        "if converted_amount is not None:\n",
        "    print(f\"{amount} {from_currency} equivale a {converted_amount:.2f} {to_currency}\")\n",
        "else:\n",
        "    print(\"Monedas no soportadas. Por favor, asegúrate de ingresar monedas válidas.\")\n"
      ]
    },
    {
      "cell_type": "code",
      "execution_count": null,
      "metadata": {
        "id": "aRqQMfxQZSwA"
      },
      "outputs": [],
      "source": [
        "def convert_length(length, from_unit, to_unit):\n",
        "    conversion_factors = {\n",
        "        'meters': 1.0,\n",
        "        'feet': 3.28084,\n",
        "        'yards': 1.09361,\n",
        "        'inches': 39.3701,\n",
        "        # Agrega más factores de conversión según sea necesario\n",
        "    }\n",
        "\n",
        "    if from_unit in conversion_factors and to_unit in conversion_factors:\n",
        "        converted_length = length * conversion_factors[to_unit] / conversion_factors[from_unit]\n",
        "        return converted_length\n",
        "    else:\n",
        "        return None\n",
        "\n",
        "# Solicitar al usuario ingresar los detalles de la conversión\n",
        "length = float(input(\"Ingresa la longitud a convertir: \"))\n",
        "from_unit = input(\"Ingresa la unidad de origen (meters, feet, yards, inches, etc.): \").lower()\n",
        "to_unit = input(\"Ingresa la unidad de destino (meters, feet, yards, inches, etc.): \").lower()\n",
        "\n",
        "# Realizar la conversión\n",
        "converted_length = convert_length(length, from_unit, to_unit)\n",
        "\n",
        "if converted_length is not None:\n",
        "    print(f\"{length} {from_unit} equivale a {converted_length:.2f} {to_unit}\")\n",
        "else:\n",
        "    print(\"Unidades no soportadas. Por favor, asegúrate de ingresar unidades válidas.\")"
      ]
    },
    {
      "cell_type": "code",
      "execution_count": null,
      "metadata": {
        "id": "FC6NZUntOg8Y"
      },
      "outputs": [],
      "source": [
        "# Función para convertir pies cuadrados a otras unidades de área\n",
        "def convertir_pies_cuadrados(pies_cuadrados, unidad_destino):\n",
        "    metros_cuadrados = pies_cuadrados * 0.092903\n",
        "    pulgadas_cuadradas = pies_cuadrados * 144\n",
        "    acres = pies_cuadrados * 0.00002296\n",
        "    centimetros_cuadrados = pies_cuadrados * 929.0304\n",
        "\n",
        "    if unidad_destino == \"metros cuadrados\":\n",
        "        return metros_cuadrados\n",
        "    elif unidad_destino == \"pulgadas cuadradas\":\n",
        "        return pulgadas_cuadradas\n",
        "    elif unidad_destino == \"acres\":\n",
        "        return acres\n",
        "    elif unidad_destino == \"centímetros cuadrados\":\n",
        "        return centimetros_cuadrados\n",
        "    else:\n",
        "        return \"Unidad de destino no válida\"\n",
        "\n",
        "# Ingreso de pies cuadrados y unidad de destino\n",
        "pies_cuadrados = float(input(\"Ingresa la cantidad de pies cuadrados: \"))\n",
        "unidad_destino = input(\"Ingresa la unidad de destino (metros cuadrados, pulgadas cuadradas, acres, centímetros cuadrados): \")\n",
        "\n",
        "# Llamada a la función de conversión\n",
        "resultado = convertir_pies_cuadrados(pies_cuadrados, unidad_destino)\n",
        "\n",
        "# Mostrar resultado\n",
        "print(f\"{pies_cuadrados} pies cuadrados son aproximadamente {resultado} {unidad_destino}\")\n"
      ]
    },
    {
      "cell_type": "code",
      "execution_count": null,
      "metadata": {
        "colab": {
          "background_save": true
        },
        "id": "gS6rLVExU0gT"
      },
      "outputs": [],
      "source": [
        "# Función para convertir varas cuadradas a otras unidades de área\n",
        "def convertir_varas_cuadradas(varas_cuadradas, unidad_destino):\n",
        "    # 1 vara cuadrada (vara²) = 0.698778 metros cuadrados (m²)\n",
        "    # 1 vara cuadrada (vara²) = 1296 pulgadas cuadradas (in²)\n",
        "    # 1 vara cuadrada (vara²) = 0.0001728 acres\n",
        "    # 1 vara cuadrada (vara²) = 6987.78 centímetros cuadrados (cm²)\n",
        "\n",
        "    metros_cuadrados = varas_cuadradas * 0.698778\n",
        "    pulgadas_cuadradas = varas_cuadradas * 1296\n",
        "    acres = varas_cuadradas * 0.0001728\n",
        "    centimetros_cuadrados = varas_cuadradas * 6987.78\n",
        "\n",
        "    if unidad_destino == \"metros cuadrados\":\n",
        "        return metros_cuadrados\n",
        "    elif unidad_destino == \"pulgadas cuadradas\":\n",
        "        return pulgadas_cuadradas\n",
        "    elif unidad_destino == \"acres\":\n",
        "        return acres\n",
        "    elif unidad_destino == \"centímetros cuadrados\":\n",
        "        return centimetros_cuadrados\n",
        "    else:\n",
        "        return \"Unidad de destino no válida\"\n",
        "\n",
        "# Ingreso de varas cuadradas y unidad de destino\n",
        "varas_cuadradas = float(input(\"Ingresa la cantidad de varas cuadradas: \"))\n",
        "unidad_destino = input(\"Ingresa la unidad de destino (metros cuadrados, pulgadas cuadradas, acres, centímetros cuadrados): \")\n",
        "\n",
        "# Llamada a la función de conversión\n",
        "resultado = convertir_varas_cuadradas(varas_cuadradas\n"
      ]
    },
    {
      "cell_type": "code",
      "execution_count": null,
      "metadata": {
        "colab": {
          "background_save": true
        },
        "id": "Tq60d3EPU3dz"
      },
      "outputs": [],
      "source": [
        "# Función para convertir yardas cuadradas a otras unidades de área\n",
        "def convertir_yardas_cuadradas(yardas_cuadradas, unidad_destino):\n",
        "    # 1 yarda cuadrada (yarda²) = 0.83612736 metros cuadrados (m²)\n",
        "    # 1 yarda cuadrada (yarda²) = 1296 pulgadas cuadradas (in²)\n",
        "    # 1 yarda cuadrada (yarda²) = 0.00020661157 acres\n",
        "    # 1 yarda cuadrada (yarda²) = 8361.2736 centímetros cuadrados (cm²)\n",
        "\n",
        "    metros_cuadrados = yardas_cuadradas * 0.83612736\n",
        "    pulgadas_cuadradas = yardas_cuadradas * 1296\n",
        "    acres = yardas_cuadradas * 0.00020661157\n",
        "    centimetros_cuadrados = yardas_cuadradas * 8361.2736\n",
        "\n",
        "    if unidad_destino == \"metros cuadrados\":\n",
        "        return metros_cuadrados\n",
        "    elif unidad_destino == \"pulgadas cuadradas\":\n",
        "        return pulgadas_cuadradas\n",
        "    elif unidad_destino == \"acres\":\n",
        "        return acres\n",
        "    elif unidad_destino == \"centímetros cuadrados\":\n",
        "        return centimetros_cuadrados\n",
        "    else:\n",
        "        return \"Unidad de destino no válida\"\n",
        "\n",
        "# Ingreso de yardas cuadradas y unidad de destino\n",
        "yardas_cuadradas = float(input(\"Ingresa la cantidad de\n"
      ]
    },
    {
      "cell_type": "code",
      "execution_count": null,
      "metadata": {
        "colab": {
          "background_save": true
        },
        "id": "pWI7tB7AVNSr"
      },
      "outputs": [],
      "source": [
        "# Función para convertir metros cuadrados a otras unidades de área\n",
        "def convertir_metros_cuadrados(metros_cuadrados, unidad_destino):\n",
        "    # 1 metro cuadrado (m²) = 10.7639 pies cuadrados (ft²)\n",
        "    # 1 metro cuadrado (m²) = 1550.0031 pulgadas cuadradas (in²)\n",
        "    # 1 metro cuadrado (m²) = 0.000247 acres\n",
        "    # 1 metro cuadrado (m²) = 10000 centímetros cuadrados (cm²)\n",
        "\n",
        "    pies_cuadrados = metros_cuadrados * 10.7639\n",
        "    pulgadas_cuadradas = metros_cuadrados * 1550.0031\n",
        "    acres = metros_cuadrados * 0.000247\n",
        "    centimetros_cuadrados = metros_cuadrados * 10000\n",
        "\n",
        "    if unidad_destino == \"pies cuadrados\":\n",
        "        return pies_cuadrados\n",
        "    elif unidad_destino == \"pulgadas cuadradas\":\n",
        "        return pulgadas_cuadradas\n",
        "    elif unidad_destino == \"acres\":\n",
        "        return acres\n",
        "    elif unidad_destino == \"centímetros cuadrados\":\n",
        "        return centimetros_cuadrados\n",
        "    else:\n",
        "        return \"Unidad de destino no válida\"\n",
        "\n",
        "# Ingreso de metros cuadrados y unidad de destino\n",
        "metros_cuadrados = float(input(\"Ingresa la cantidad de metros cuadrados: \"))\n",
        "unidad_destino = input(\"Ingresa la unidad de destino (pies cuadrados, pulgadas cuadradas, acres, centímetros cuadrados): \")\n",
        "\n",
        "# Llamada a la función de conversión\n",
        "resultado = convertir_metros_cuadrados(metros_cuadrados, unidad_destino)\n",
        "\n",
        "# Mostrar resultado\n",
        "print(f\"{metros_cuadrados} metros cuadrados son aproximadamente {resultado} {unidad_destino}\")\n"
      ]
    },
    {
      "cell_type": "code",
      "execution_count": null,
      "metadata": {
        "colab": {
          "background_save": true
        },
        "id": "YnN1_X3eVp9w"
      },
      "outputs": [],
      "source": [
        "# Crear una lista vacía para almacenar las tareas\n",
        "tareas = []\n",
        "\n",
        "# Función para agregar una tarea a la lista\n",
        "def agregar_tarea():\n",
        "    tarea = input(\"Ingrese la nueva tarea: \")\n",
        "    tareas.append(tarea)\n",
        "    print(\"Tarea agregada.\")\n",
        "\n",
        "# Función para eliminar una tarea de la lista\n",
        "def eliminar_tarea():\n",
        "    if len(tareas) == 0:\n",
        "        print(\"La lista de tareas está vacía.\")\n",
        "    else:\n",
        "        print(\"Lista de tareas:\")\n",
        "        for i, tarea in enumerate(tareas):\n",
        "            print(f\"{i + 1}. {tarea}\")\n",
        "\n",
        "        numero_tarea = int(input(\"Ingrese el número de la tarea que desea eliminar: \")) - 1\n",
        "\n",
        "        if 0 <= numero_tarea < len(tareas):\n",
        "            tarea_eliminada = tareas.pop(numero_tarea)\n",
        "            print(f\"Tarea '{tarea_eliminada}' eliminada.\")\n",
        "        else:\n"
      ]
    },
    {
      "cell_type": "code",
      "execution_count": null,
      "metadata": {
        "colab": {
          "background_save": true
        },
        "id": "MxEFR7FzWsPk"
      },
      "outputs": [],
      "source": [
        "# Función para convertir manzanas de kilogramos a libras\n",
        "def kilogramos_a_libras(kilogramos):\n",
        "    libras = kilogramos * 2.20462\n",
        "    return libras\n",
        "\n",
        "# Función para convertir manzanas de libras a kilogramos\n",
        "def libras_a_kilogramos(libras):\n",
        "    kilogramos = libras / 2.20462\n",
        "    return kilogramos\n",
        "\n",
        "# Pide al usuario que ingrese la cantidad de manzanas en kilogramos\n",
        "kilogramos = float(input(\"Ingresa la cantidad de manzanas en kilogramos: \"))\n",
        "\n",
        "# Realiza la conversión\n",
        "libras = kilogramos_a_libras(kilogramos)\n",
        "\n",
        "# Muestra el resultado\n",
        "print(f\"{kilogramos} kilogramos equivale a {libras} libras.\")\n",
        "\n",
        "# Pide al usuario que ingrese la cantidad de manzanas en libras\n",
        "libras = float(input(\"Ingresa la cantidad de manzanas en libras: \"))\n",
        "\n",
        "# Realiza la conversión\n",
        "kilogramos = libras_a_kilogramos(libras)\n",
        "\n",
        "# Muestra el resultado\n",
        "print(f\"{libras} libras equivale a {kilogramos} kilogramos.\")\n"
      ]
    },
    {
      "cell_type": "code",
      "execution_count": null,
      "metadata": {
        "id": "6saNuoGFXo_G"
      },
      "outputs": [],
      "source": [
        "# Función para convertir hectáreas a acres\n",
        "def hectareas_a_acres(hectareas):\n",
        "    acres = hectareas * 2.47105\n",
        "    return acres\n",
        "\n",
        "# Función para convertir hectáreas a metros cuadrados\n",
        "def hectareas_a_metros_cuadrados(hectareas):\n",
        "    metros_cuadrados = hectareas * 10000\n",
        "    return metros_cuadrados\n",
        "\n",
        "# Función para convertir hectáreas a kilómetros cuadrados\n",
        "def hectareas_a_kilometros_cuadrados(hectareas):\n",
        "    kilometros_cuadrados = hectareas / 100\n",
        "    return kilometros_cuadrados\n",
        "\n",
        "# Pide al usuario que ingrese la cantidad de hectáreas\n",
        "hectareas = float(input(\"Ingresa la cantidad de hectáreas: \"))\n",
        "\n",
        "# Realiza las conversiones\n",
        "acres = hectareas_a_acres(hectareas)\n",
        "metros_cuadrados = hectareas_a_metros_cuadrados(hectareas)\n",
        "kilometros_cuadrados = hectareas_a_kilometros_cuadrados(hectareas)\n",
        "\n",
        "# Muestra los resultados\n",
        "print(f\"{hectareas} hectáreas equivale a:\")\n",
        "print(f\"{acres} acres\")\n",
        "print(f\"{metros_cuadrados} metros cuadrados\")\n",
        "print(f\"{kilometros_cuadrados} kilómetros cuadrados\")\n"
      ]
    },
    {
      "cell_type": "code",
      "execution_count": null,
      "metadata": {
        "colab": {
          "background_save": true
        },
        "id": "UJs25iBDZAZo"
      },
      "outputs": [],
      "source": [
        "def calcular_impuesto(monto):\n",
        "    tabla = [\n",
        "        (0.01, 500, 1.5, 0),\n",
        "        (500.01, 1000, 1.5, 3),\n",
        "        (1000.01, 2000, 3, 3),\n",
        "        (2000.01, 3000, 6, 3),\n",
        "        (3000.01, 6000, 9, 2),\n",
        "        (6000.01, 8000, 15, 2),\n",
        "        (8000.01, 18000, 39, 2),\n",
        "        (18000.01, 30000, 63, 1),\n",
        "        (30000.01, 60000, 93, 0.8),\n",
        "        (60000.01, 100000, 125, 0.7),\n",
        "        (100000.01, 200000, 195, 0.6),\n",
        "        (200000.01, 300000, 255, 0.45)\n",
        "    ]\n",
        "\n",
        "    impuesto = 0\n",
        "\n",
        "    for rango in tabla:\n",
        "        desde, hasta, porcentaje, adicional = rango\n",
        "        if monto <= hasta:\n",
        "            impuesto += (monto - desde) * porcentaje / 100 + adicional\n",
        "            break\n",
        "        else:\n",
        "            impuesto += (hasta - desde) * porcentaje / 100 + adicional\n",
        "\n",
        "    return impuesto\n",
        "\n",
        "monto = float(input(\"Introduce el monto de la actividad económica: \"))\n",
        "impuesto = calcular_impuesto(monto)\n",
        "print(f\"El impuesto a pagar es: {impuesto:.2f}\")\n"
      ]
    },
    {
      "cell_type": "code",
      "execution_count": null,
      "metadata": {
        "colab": {
          "background_save": true
        },
        "id": "C49eDek2btEy"
      },
      "outputs": [],
      "source": [
        "def cajero_automatico():\n",
        "    # Definir los valores de los billetes y monedas disponibles\n",
        "    billetes = [100, 50, 20, 10, 5, 1]\n",
        "    monedas = [0.5, 0.25, 0.1, 0.05, 0.01]\n",
        "\n",
        "    # Solicitar al usuario la cantidad a retirar\n",
        "    cantidad = float(input(\"Ingrese la cantidad a retirar: \"))\n",
        "\n",
        "    # Inicializar contadores para billetes y monedas\n",
        "    billete_count = [0, 0, 0, 0, 0, 0]\n",
        "    moneda_count = [0, 0, 0, 0, 0]\n",
        "\n",
        "    # Calcular los billetes necesarios\n",
        "    for i in range(len(billetes)):\n",
        "        while cantidad >= billetes[i]:\n",
        "            cantidad -= billetes[i]\n",
        "            billete_count[i] += 1\n",
        "\n",
        "    # Calcular las monedas necesarias\n",
        "    for i in range(len(monedas)):\n",
        "        while cantidad >= monedas[i]:\n",
        "            cantidad -= monedas[i]\n",
        "            moneda_count[i] += 1\n",
        "\n",
        "    # Imprimir los billetes y monedas entregados\n",
        "    print(\"Billetes:\")\n",
        "    for i in range(len(billetes)):\n",
        "        if billete_count[i] > 0:\n",
        "            print(f\"{billete_count[i]} billetes de ${billetes[i]}\")\n",
        "\n",
        "    print(\"\\nMonedas:\")\n",
        "    for i in range(len(monedas)):\n",
        "        if moneda_count[i] > 0:\n",
        "            print(f\"{moneda_count[i]} monedas de ${monedas[i]}\")\n",
        "\n",
        "# Llamar a la función para simular el cajero automático\n",
        "cajero_automatico()\n"
      ]
    },
    {
      "cell_type": "code",
      "execution_count": null,
      "metadata": {
        "id": "uI7MOkEMc_n0",
        "outputId": "bca02b85-ceaf-4f37-a141-09dc85c1ea55",
        "colab": {
          "base_uri": "https://localhost:8080/"
        }
      },
      "outputs": [
        {
          "output_type": "stream",
          "name": "stdout",
          "text": [
            "Ingresa la cantidad en metros cuadrados: 1\n",
            "1.0 metros cuadrados son equivalentes a:\n",
            "0.00024710516301527604 acres\n",
            "10.7639 pies cuadrados\n",
            "0.0001 hectáreas\n"
          ]
        }
      ],
      "source": [
        "# Función para convertir metros cuadrados a otras unidades de área\n",
        "def convertir_metros_cuadrados(metros_cuadrados):\n",
        "    acres = metros_cuadrados / 4046.86\n",
        "    pies_cuadrados = metros_cuadrados * 10.7639\n",
        "    hectareas = metros_cuadrados / 10000\n",
        "    return acres, pies_cuadrados, hectareas\n",
        "\n",
        "# Ingresa la cantidad en metros cuadrados que deseas convertir\n",
        "metros_cuadrados = float(input(\"Ingresa la cantidad en metros cuadrados: \"))\n",
        "\n",
        "# Llama a la función de conversión\n",
        "acres, pies_cuadrados, hectareas = convertir_metros_cuadrados(metros_cuadrados)\n",
        "\n",
        "# Muestra los resultados\n",
        "print(f\"{metros_cuadrados} metros cuadrados son equivalentes a:\")\n",
        "print(f\"{acres} acres\")\n",
        "print(f\"{pies_cuadrados} pies cuadrados\")\n",
        "print(f\"{hectareas} hectáreas\")\n"
      ]
    }
  ],
  "metadata": {
    "colab": {
      "provenance": [],
      "include_colab_link": true
    },
    "kernelspec": {
      "display_name": "Python 3",
      "name": "python3"
    },
    "language_info": {
      "name": "python"
    }
  },
  "nbformat": 4,
  "nbformat_minor": 0
}